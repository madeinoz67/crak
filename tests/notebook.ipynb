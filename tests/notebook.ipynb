{
 "cells": [
  {
   "cell_type": "markdown",
   "source": [
    "<h1>Table of Contents<span class=\"tocSkip\"></span></h1>\n",
    "<div class=\"toc\"><ul class=\"toc-item\"></ul></div>"
   ],
   "metadata": {
    "toc": true
   }
  },
  {
   "cell_type": "markdown",
   "source": [
    "# Password Cracker analysis and idea testing"
   ],
   "metadata": {}
  },
  {
   "cell_type": "code",
   "execution_count": 293,
   "source": [
    "import pandas as pd\n",
    "import crypt\n",
    "import hashlib\n",
    "\n",
    "df = pd.read_csv('shadow', sep=':',header=None, usecols=[0,1], names=['username','password'])\n",
    "df = df.set_index('username')"
   ],
   "outputs": [],
   "metadata": {}
  },
  {
   "cell_type": "code",
   "execution_count": 294,
   "source": [
    "df"
   ],
   "outputs": [
    {
     "output_type": "execute_result",
     "data": {
      "text/plain": [
       "                                                        password\n",
       "username                                                        \n",
       "root           $6$QlJt0cnr$hmgN/fzUrHFFI1SaGXVNzE060TPuwsZdzP...\n",
       "daemon                                                         *\n",
       "bin                                                            *\n",
       "sys                                                            *\n",
       "sync                                                           *\n",
       "games                                                          *\n",
       "man                                                            *\n",
       "lp                                                             *\n",
       "mail                                                           *\n",
       "news                                                           *\n",
       "uucp                                                           *\n",
       "proxy                                                          *\n",
       "www-data                                                       *\n",
       "backup         $6$Tye3KuC5$rVIT3u5M9IhZZI.jRanteGT3o7DbkLFWb/...\n",
       "list                                                           *\n",
       "irc                                                            *\n",
       "gnats                                                          *\n",
       "nobody                                                         *\n",
       "libuuid                                                        !\n",
       "Debian-exim                                                    !\n",
       "statd                                                          *\n",
       "messagebus                                                     *\n",
       "avahi                                                          *\n",
       "bind                                                           *\n",
       "sshd                                                           *\n",
       "postgres                                                       *\n",
       "hplip                                                          *\n",
       "saned                                                          *\n",
       "allison        $6$sPsSvR2J$wk59pi4or6QR5IobArTZpn4k7i2jZQ07pY...\n",
       "paul           $6$YGG4oFLp$avrVGY6.S59aApmCY/60A7AWfGDBh/zI7L...\n",
       "dr_balustrade  $6$3kgge6ym$OcIOZS8bJy41YsLYXToOW2Ag3imG1KEXkP...\n",
       "proftpd                                                        !\n",
       "ftp                                                            *\n",
       "mysql                                                          !"
      ],
      "text/html": [
       "<div>\n",
       "<style scoped>\n",
       "    .dataframe tbody tr th:only-of-type {\n",
       "        vertical-align: middle;\n",
       "    }\n",
       "\n",
       "    .dataframe tbody tr th {\n",
       "        vertical-align: top;\n",
       "    }\n",
       "\n",
       "    .dataframe thead th {\n",
       "        text-align: right;\n",
       "    }\n",
       "</style>\n",
       "<table border=\"1\" class=\"dataframe\">\n",
       "  <thead>\n",
       "    <tr style=\"text-align: right;\">\n",
       "      <th></th>\n",
       "      <th>password</th>\n",
       "    </tr>\n",
       "    <tr>\n",
       "      <th>username</th>\n",
       "      <th></th>\n",
       "    </tr>\n",
       "  </thead>\n",
       "  <tbody>\n",
       "    <tr>\n",
       "      <td>root</td>\n",
       "      <td>$6$QlJt0cnr$hmgN/fzUrHFFI1SaGXVNzE060TPuwsZdzP...</td>\n",
       "    </tr>\n",
       "    <tr>\n",
       "      <td>daemon</td>\n",
       "      <td>*</td>\n",
       "    </tr>\n",
       "    <tr>\n",
       "      <td>bin</td>\n",
       "      <td>*</td>\n",
       "    </tr>\n",
       "    <tr>\n",
       "      <td>sys</td>\n",
       "      <td>*</td>\n",
       "    </tr>\n",
       "    <tr>\n",
       "      <td>sync</td>\n",
       "      <td>*</td>\n",
       "    </tr>\n",
       "    <tr>\n",
       "      <td>games</td>\n",
       "      <td>*</td>\n",
       "    </tr>\n",
       "    <tr>\n",
       "      <td>man</td>\n",
       "      <td>*</td>\n",
       "    </tr>\n",
       "    <tr>\n",
       "      <td>lp</td>\n",
       "      <td>*</td>\n",
       "    </tr>\n",
       "    <tr>\n",
       "      <td>mail</td>\n",
       "      <td>*</td>\n",
       "    </tr>\n",
       "    <tr>\n",
       "      <td>news</td>\n",
       "      <td>*</td>\n",
       "    </tr>\n",
       "    <tr>\n",
       "      <td>uucp</td>\n",
       "      <td>*</td>\n",
       "    </tr>\n",
       "    <tr>\n",
       "      <td>proxy</td>\n",
       "      <td>*</td>\n",
       "    </tr>\n",
       "    <tr>\n",
       "      <td>www-data</td>\n",
       "      <td>*</td>\n",
       "    </tr>\n",
       "    <tr>\n",
       "      <td>backup</td>\n",
       "      <td>$6$Tye3KuC5$rVIT3u5M9IhZZI.jRanteGT3o7DbkLFWb/...</td>\n",
       "    </tr>\n",
       "    <tr>\n",
       "      <td>list</td>\n",
       "      <td>*</td>\n",
       "    </tr>\n",
       "    <tr>\n",
       "      <td>irc</td>\n",
       "      <td>*</td>\n",
       "    </tr>\n",
       "    <tr>\n",
       "      <td>gnats</td>\n",
       "      <td>*</td>\n",
       "    </tr>\n",
       "    <tr>\n",
       "      <td>nobody</td>\n",
       "      <td>*</td>\n",
       "    </tr>\n",
       "    <tr>\n",
       "      <td>libuuid</td>\n",
       "      <td>!</td>\n",
       "    </tr>\n",
       "    <tr>\n",
       "      <td>Debian-exim</td>\n",
       "      <td>!</td>\n",
       "    </tr>\n",
       "    <tr>\n",
       "      <td>statd</td>\n",
       "      <td>*</td>\n",
       "    </tr>\n",
       "    <tr>\n",
       "      <td>messagebus</td>\n",
       "      <td>*</td>\n",
       "    </tr>\n",
       "    <tr>\n",
       "      <td>avahi</td>\n",
       "      <td>*</td>\n",
       "    </tr>\n",
       "    <tr>\n",
       "      <td>bind</td>\n",
       "      <td>*</td>\n",
       "    </tr>\n",
       "    <tr>\n",
       "      <td>sshd</td>\n",
       "      <td>*</td>\n",
       "    </tr>\n",
       "    <tr>\n",
       "      <td>postgres</td>\n",
       "      <td>*</td>\n",
       "    </tr>\n",
       "    <tr>\n",
       "      <td>hplip</td>\n",
       "      <td>*</td>\n",
       "    </tr>\n",
       "    <tr>\n",
       "      <td>saned</td>\n",
       "      <td>*</td>\n",
       "    </tr>\n",
       "    <tr>\n",
       "      <td>allison</td>\n",
       "      <td>$6$sPsSvR2J$wk59pi4or6QR5IobArTZpn4k7i2jZQ07pY...</td>\n",
       "    </tr>\n",
       "    <tr>\n",
       "      <td>paul</td>\n",
       "      <td>$6$YGG4oFLp$avrVGY6.S59aApmCY/60A7AWfGDBh/zI7L...</td>\n",
       "    </tr>\n",
       "    <tr>\n",
       "      <td>dr_balustrade</td>\n",
       "      <td>$6$3kgge6ym$OcIOZS8bJy41YsLYXToOW2Ag3imG1KEXkP...</td>\n",
       "    </tr>\n",
       "    <tr>\n",
       "      <td>proftpd</td>\n",
       "      <td>!</td>\n",
       "    </tr>\n",
       "    <tr>\n",
       "      <td>ftp</td>\n",
       "      <td>*</td>\n",
       "    </tr>\n",
       "    <tr>\n",
       "      <td>mysql</td>\n",
       "      <td>!</td>\n",
       "    </tr>\n",
       "  </tbody>\n",
       "</table>\n",
       "</div>"
      ]
     },
     "metadata": {},
     "execution_count": 294
    }
   ],
   "metadata": {}
  },
  {
   "cell_type": "code",
   "execution_count": 295,
   "source": [
    "df = df[(df.password != '!') & (df.password != '*') & (df.password != 'x')] "
   ],
   "outputs": [],
   "metadata": {}
  },
  {
   "cell_type": "code",
   "execution_count": 296,
   "source": [
    "df"
   ],
   "outputs": [
    {
     "output_type": "execute_result",
     "data": {
      "text/plain": [
       "                                                        password\n",
       "username                                                        \n",
       "root           $6$QlJt0cnr$hmgN/fzUrHFFI1SaGXVNzE060TPuwsZdzP...\n",
       "backup         $6$Tye3KuC5$rVIT3u5M9IhZZI.jRanteGT3o7DbkLFWb/...\n",
       "allison        $6$sPsSvR2J$wk59pi4or6QR5IobArTZpn4k7i2jZQ07pY...\n",
       "paul           $6$YGG4oFLp$avrVGY6.S59aApmCY/60A7AWfGDBh/zI7L...\n",
       "dr_balustrade  $6$3kgge6ym$OcIOZS8bJy41YsLYXToOW2Ag3imG1KEXkP..."
      ],
      "text/html": [
       "<div>\n",
       "<style scoped>\n",
       "    .dataframe tbody tr th:only-of-type {\n",
       "        vertical-align: middle;\n",
       "    }\n",
       "\n",
       "    .dataframe tbody tr th {\n",
       "        vertical-align: top;\n",
       "    }\n",
       "\n",
       "    .dataframe thead th {\n",
       "        text-align: right;\n",
       "    }\n",
       "</style>\n",
       "<table border=\"1\" class=\"dataframe\">\n",
       "  <thead>\n",
       "    <tr style=\"text-align: right;\">\n",
       "      <th></th>\n",
       "      <th>password</th>\n",
       "    </tr>\n",
       "    <tr>\n",
       "      <th>username</th>\n",
       "      <th></th>\n",
       "    </tr>\n",
       "  </thead>\n",
       "  <tbody>\n",
       "    <tr>\n",
       "      <td>root</td>\n",
       "      <td>$6$QlJt0cnr$hmgN/fzUrHFFI1SaGXVNzE060TPuwsZdzP...</td>\n",
       "    </tr>\n",
       "    <tr>\n",
       "      <td>backup</td>\n",
       "      <td>$6$Tye3KuC5$rVIT3u5M9IhZZI.jRanteGT3o7DbkLFWb/...</td>\n",
       "    </tr>\n",
       "    <tr>\n",
       "      <td>allison</td>\n",
       "      <td>$6$sPsSvR2J$wk59pi4or6QR5IobArTZpn4k7i2jZQ07pY...</td>\n",
       "    </tr>\n",
       "    <tr>\n",
       "      <td>paul</td>\n",
       "      <td>$6$YGG4oFLp$avrVGY6.S59aApmCY/60A7AWfGDBh/zI7L...</td>\n",
       "    </tr>\n",
       "    <tr>\n",
       "      <td>dr_balustrade</td>\n",
       "      <td>$6$3kgge6ym$OcIOZS8bJy41YsLYXToOW2Ag3imG1KEXkP...</td>\n",
       "    </tr>\n",
       "  </tbody>\n",
       "</table>\n",
       "</div>"
      ]
     },
     "metadata": {},
     "execution_count": 296
    }
   ],
   "metadata": {}
  },
  {
   "cell_type": "code",
   "execution_count": 297,
   "source": [
    "\n",
    "passwdtocrack = df.password['dr_balustrade']\n",
    "passwdtocrack"
   ],
   "outputs": [
    {
     "output_type": "execute_result",
     "data": {
      "text/plain": [
       "'$6$3kgge6ym$OcIOZS8bJy41YsLYXToOW2Ag3imG1KEXkPgQpnbSfCBIYE26Kp42QHGeAyV3L4zPsa/AAuAsLXx9QCXtyF/xX0'"
      ]
     },
     "metadata": {},
     "execution_count": 297
    }
   ],
   "metadata": {}
  },
  {
   "cell_type": "code",
   "execution_count": 298,
   "source": [
    "'dr_balustrade' in df.index"
   ],
   "outputs": [
    {
     "output_type": "execute_result",
     "data": {
      "text/plain": [
       "True"
      ]
     },
     "metadata": {},
     "execution_count": 298
    }
   ],
   "metadata": {}
  },
  {
   "cell_type": "code",
   "execution_count": 299,
   "source": [
    "crypttype = passwdtocrack.split('$')[1]\n",
    "crypttype"
   ],
   "outputs": [
    {
     "output_type": "execute_result",
     "data": {
      "text/plain": [
       "'6'"
      ]
     },
     "metadata": {},
     "execution_count": 299
    }
   ],
   "metadata": {}
  },
  {
   "cell_type": "code",
   "execution_count": 300,
   "source": [
    "salt = passwdtocrack.split(\"$\")[2]\n",
    "salt"
   ],
   "outputs": [
    {
     "output_type": "execute_result",
     "data": {
      "text/plain": [
       "'3kgge6ym'"
      ]
     },
     "metadata": {},
     "execution_count": 300
    }
   ],
   "metadata": {}
  },
  {
   "cell_type": "code",
   "execution_count": 301,
   "source": [
    "hashedpwd = passwdtocrack.split(\"$\")[3]\n",
    "hashedpwd"
   ],
   "outputs": [
    {
     "output_type": "execute_result",
     "data": {
      "text/plain": [
       "'OcIOZS8bJy41YsLYXToOW2Ag3imG1KEXkPgQpnbSfCBIYE26Kp42QHGeAyV3L4zPsa/AAuAsLXx9QCXtyF/xX0'"
      ]
     },
     "metadata": {},
     "execution_count": 301
    }
   ],
   "metadata": {}
  },
  {
   "cell_type": "code",
   "execution_count": 302,
   "source": [
    "insalt = '$' + crypttype + '$' + salt + '$'\n",
    "insalt"
   ],
   "outputs": [
    {
     "output_type": "execute_result",
     "data": {
      "text/plain": [
       "'$6$3kgge6ym$'"
      ]
     },
     "metadata": {},
     "execution_count": 302
    }
   ],
   "metadata": {}
  },
  {
   "cell_type": "code",
   "execution_count": 303,
   "source": [
    "wordundertest = 'pinky'\n",
    "crypt.crypt('pinky',salt=salt)"
   ],
   "outputs": [
    {
     "output_type": "execute_result",
     "data": {
      "text/plain": [
       "'3kE9YicCkiyT6'"
      ]
     },
     "metadata": {},
     "execution_count": 303
    }
   ],
   "metadata": {}
  },
  {
   "cell_type": "code",
   "execution_count": 304,
   "source": [
    "passwdtocrack == crypt.crypt('pinky', passwdtocrack)"
   ],
   "outputs": [
    {
     "output_type": "execute_result",
     "data": {
      "text/plain": [
       "False"
      ]
     },
     "metadata": {},
     "execution_count": 304
    }
   ],
   "metadata": {}
  },
  {
   "cell_type": "code",
   "execution_count": 305,
   "source": [
    "from passlib.hash import sha512_crypt\n",
    "from passlib.hosts import linux_context\n",
    "\n",
    "sha512_crypt.hash('pinky', rounds=5000, salt=salt)"
   ],
   "outputs": [
    {
     "output_type": "execute_result",
     "data": {
      "text/plain": [
       "'$6$3kgge6ym$OcIOZS8bJy41YsLYXToOW2Ag3imG1KEXkPgQpnbSfCBIYE26Kp42QHGeAyV3L4zPsa/AAuAsLXx9QCXtyF/xX0'"
      ]
     },
     "metadata": {},
     "execution_count": 305
    }
   ],
   "metadata": {}
  },
  {
   "cell_type": "code",
   "execution_count": 306,
   "source": [
    "linux_context.verify('pinky', passwdtocrack)"
   ],
   "outputs": [
    {
     "output_type": "execute_result",
     "data": {
      "text/plain": [
       "True"
      ]
     },
     "metadata": {},
     "execution_count": 306
    }
   ],
   "metadata": {}
  },
  {
   "cell_type": "code",
   "execution_count": 307,
   "source": [
    "passwdtocrack == sha512_crypt.hash('pinky', rounds=5000, salt=salt)"
   ],
   "outputs": [
    {
     "output_type": "execute_result",
     "data": {
      "text/plain": [
       "True"
      ]
     },
     "metadata": {},
     "execution_count": 307
    }
   ],
   "metadata": {}
  },
  {
   "cell_type": "code",
   "execution_count": 308,
   "source": [
    "dict=open('dicttest.txt','r', encoding=\"ascii\")\n",
    "for word in dict:\n",
    "   # word=word.strip()\n",
    "    word=word.strip('\\n')\n",
    "    print(word)\n",
    "    print(linux_context.verify(word, passwdtocrack))\n",
    "    print(sha512_crypt.hash(str(word), rounds=5000, salt=salt))\n",
    "    "
   ],
   "outputs": [
    {
     "output_type": "stream",
     "name": "stdout",
     "text": [
      "pinky\n",
      "True\n",
      "$6$3kgge6ym$OcIOZS8bJy41YsLYXToOW2Ag3imG1KEXkPgQpnbSfCBIYE26Kp42QHGeAyV3L4zPsa/AAuAsLXx9QCXtyF/xX0\n",
      "test\n",
      "False\n",
      "$6$3kgge6ym$hEp9egWLZ6M3eAc3NI4giq6VmFIWomGuVxUed.LclFy.8CyhWoJTqm9Wiuj3D.7.eH55IbWi10Q1dSU0QyG4o1\n",
      "hello\n",
      "False\n",
      "$6$3kgge6ym$LytWHGgQ5PUSKqQyLErs5pedw/a2bF6PDgknDJSQMeuyXgNKbgLCqUCGEI889XSLQbHQSem64zKDtadU0GDeA1\n",
      "password123\n",
      "False\n",
      "$6$3kgge6ym$nOTC.eiZDYYm1hbpSB559OGgF9mRrj72T3uIdDqF15AGTdIsMUMbgIEWNQ51xepO4Yhxsg32BREfAxuFNLaEn0\n"
     ]
    }
   ],
   "metadata": {}
  },
  {
   "cell_type": "code",
   "execution_count": 309,
   "source": [
    "for index, row in df.iterrows():\n",
    "    print(index)"
   ],
   "outputs": [
    {
     "output_type": "stream",
     "name": "stdout",
     "text": [
      "root\n",
      "backup\n",
      "allison\n",
      "paul\n",
      "dr_balustrade\n"
     ]
    }
   ],
   "metadata": {}
  },
  {
   "cell_type": "code",
   "execution_count": null,
   "source": [],
   "outputs": [],
   "metadata": {}
  }
 ],
 "metadata": {
  "kernelspec": {
   "display_name": "Python 3",
   "language": "python",
   "name": "python3"
  },
  "language_info": {
   "codemirror_mode": {
    "name": "ipython",
    "version": 3
   },
   "file_extension": ".py",
   "mimetype": "text/x-python",
   "name": "python",
   "nbconvert_exporter": "python",
   "pygments_lexer": "ipython3",
   "version": "3.7.4"
  },
  "toc": {
   "base_numbering": 1,
   "nav_menu": {},
   "number_sections": true,
   "sideBar": true,
   "skip_h1_title": true,
   "title_cell": "Table of Contents",
   "title_sidebar": "Contents",
   "toc_cell": true,
   "toc_position": {},
   "toc_section_display": true,
   "toc_window_display": false
  }
 },
 "nbformat": 4,
 "nbformat_minor": 2
}